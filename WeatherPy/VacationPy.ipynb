{
 "cells": [
  {
   "cell_type": "markdown",
   "metadata": {},
   "source": [
    "# VacationPy\n",
    "----\n",
    "\n",
    "#### Note\n",
    "* Keep an eye on your API usage. Use https://developers.google.com/maps/reporting/gmp-reporting as reference for how to monitor your usage and billing.\n",
    "\n",
    "* Instructions have been included for each segment. You do not have to follow them exactly, but they are included to help you think through the steps."
   ]
  },
  {
   "cell_type": "code",
   "execution_count": 1,
   "metadata": {},
   "outputs": [],
   "source": [
    "# Dependencies and Setup\n",
    "import matplotlib.pyplot as plt\n",
    "import pandas as pd\n",
    "import numpy as np\n",
    "import requests\n",
    "import gmaps\n",
    "import os\n",
    "\n",
    "# Import API key\n",
    "from api_keys import g_key"
   ]
  },
  {
   "cell_type": "code",
   "execution_count": null,
   "metadata": {},
   "outputs": [],
   "source": []
  },
  {
   "cell_type": "markdown",
   "metadata": {},
   "source": [
    "### Store Part I results into DataFrame\n",
    "* Load the csv exported in Part I to a DataFrame"
   ]
  },
  {
   "cell_type": "code",
   "execution_count": 2,
   "metadata": {},
   "outputs": [
    {
     "output_type": "execute_result",
     "data": {
      "text/plain": [
       "   Unnamed: 0                City Country      Lat       Lon   Tmax  % H  \\\n",
       "0           0                Mayo      US  38.8876  -76.5119  46.00  100   \n",
       "1           1         Clyde River      CA  70.4692  -68.5914 -14.80   64   \n",
       "2           2              Albany      US  42.6001  -73.9662  39.99   86   \n",
       "3           3  Concepción del Oro      MX  24.6333 -101.4167  54.14   41   \n",
       "4           4           Cape Town      ZA -33.9258   18.4232  84.20   34   \n",
       "\n",
       "   Cloudiness  Wind v        Date  \n",
       "0          90    3.44  1614607236  \n",
       "1          75   24.16  1614607237  \n",
       "2         100    6.62  1614607028  \n",
       "3          23    1.50  1614607240  \n",
       "4          40    8.05  1614607162  "
      ],
      "text/html": "<div>\n<style scoped>\n    .dataframe tbody tr th:only-of-type {\n        vertical-align: middle;\n    }\n\n    .dataframe tbody tr th {\n        vertical-align: top;\n    }\n\n    .dataframe thead th {\n        text-align: right;\n    }\n</style>\n<table border=\"1\" class=\"dataframe\">\n  <thead>\n    <tr style=\"text-align: right;\">\n      <th></th>\n      <th>Unnamed: 0</th>\n      <th>City</th>\n      <th>Country</th>\n      <th>Lat</th>\n      <th>Lon</th>\n      <th>Tmax</th>\n      <th>% H</th>\n      <th>Cloudiness</th>\n      <th>Wind v</th>\n      <th>Date</th>\n    </tr>\n  </thead>\n  <tbody>\n    <tr>\n      <th>0</th>\n      <td>0</td>\n      <td>Mayo</td>\n      <td>US</td>\n      <td>38.8876</td>\n      <td>-76.5119</td>\n      <td>46.00</td>\n      <td>100</td>\n      <td>90</td>\n      <td>3.44</td>\n      <td>1614607236</td>\n    </tr>\n    <tr>\n      <th>1</th>\n      <td>1</td>\n      <td>Clyde River</td>\n      <td>CA</td>\n      <td>70.4692</td>\n      <td>-68.5914</td>\n      <td>-14.80</td>\n      <td>64</td>\n      <td>75</td>\n      <td>24.16</td>\n      <td>1614607237</td>\n    </tr>\n    <tr>\n      <th>2</th>\n      <td>2</td>\n      <td>Albany</td>\n      <td>US</td>\n      <td>42.6001</td>\n      <td>-73.9662</td>\n      <td>39.99</td>\n      <td>86</td>\n      <td>100</td>\n      <td>6.62</td>\n      <td>1614607028</td>\n    </tr>\n    <tr>\n      <th>3</th>\n      <td>3</td>\n      <td>Concepción del Oro</td>\n      <td>MX</td>\n      <td>24.6333</td>\n      <td>-101.4167</td>\n      <td>54.14</td>\n      <td>41</td>\n      <td>23</td>\n      <td>1.50</td>\n      <td>1614607240</td>\n    </tr>\n    <tr>\n      <th>4</th>\n      <td>4</td>\n      <td>Cape Town</td>\n      <td>ZA</td>\n      <td>-33.9258</td>\n      <td>18.4232</td>\n      <td>84.20</td>\n      <td>34</td>\n      <td>40</td>\n      <td>8.05</td>\n      <td>1614607162</td>\n    </tr>\n  </tbody>\n</table>\n</div>"
     },
     "metadata": {},
     "execution_count": 2
    }
   ],
   "source": [
    "filetoload=\"../WeatherPy/output/cityweather.csv\"\n",
    "cities=pd.read_csv(filetoload)\n",
    "cities.head()\n"
   ]
  },
  {
   "cell_type": "markdown",
   "metadata": {},
   "source": [
    "### Humidity Heatmap\n",
    "* Configure gmaps.\n",
    "* Use the Lat and Lng as locations and Humidity as the weight.\n",
    "* Add Heatmap layer to map."
   ]
  },
  {
   "cell_type": "code",
   "execution_count": 3,
   "metadata": {},
   "outputs": [],
   "source": [
    "humidity=cities[\"% H\"].astype(float)\n",
    "latlon=cities[[\"Lat\",\"Lon\"]].astype(float)\n",
    "max_h=humidity.max()"
   ]
  },
  {
   "cell_type": "code",
   "execution_count": 4,
   "metadata": {},
   "outputs": [
    {
     "output_type": "display_data",
     "data": {
      "text/plain": "Figure(layout=FigureLayout(height='420px'))",
      "application/vnd.jupyter.widget-view+json": {
       "version_major": 2,
       "version_minor": 0,
       "model_id": "961d564f48914ee3aed095cb2f1ac9c9"
      }
     },
     "metadata": {}
    }
   ],
   "source": [
    "fig=gmaps.figure(center=(0,0),zoom_level=2)\n",
    "heat=gmaps.heatmap_layer(latlon,weights=humidity,dissipating=False,max_intensity=max_h,point_radius=2)\n",
    "fig.add_layer(heat)\n",
    "fig"
   ]
  },
  {
   "source": [
    "### Create new DataFrame fitting weather criteria\n",
    "* Narrow down the cities to fit weather conditions.\n",
    "* Drop any rows will null values."
   ],
   "cell_type": "code",
   "metadata": {},
   "execution_count": null,
   "outputs": []
  },
  {
   "cell_type": "code",
   "execution_count": 5,
   "metadata": {},
   "outputs": [
    {
     "output_type": "execute_result",
     "data": {
      "text/plain": [
       "    Unnamed: 0             City Country      Lat       Lon   Tmax  % H  \\\n",
       "0           48             Jalu      LY  29.0331   21.5482  70.95   28   \n",
       "1           63     Puerto Ayora      EC  -0.7393  -90.3518  75.99   98   \n",
       "2           64           Eravur      LK   7.7733   81.6095  78.17   67   \n",
       "3           65         Lüderitz     NaN -26.6481   15.1594  72.77   64   \n",
       "4          148     Constitución      CL -35.3333  -72.4167  70.38   55   \n",
       "5          151        Itimādpur      IN  27.2500   78.2000  72.70   20   \n",
       "6          193          Glencoe      ZA -28.1783   30.1470  73.76   38   \n",
       "7          224           Kātrās      IN  23.8000   86.2833  82.06   18   \n",
       "8          233            Adrar      MR  20.5022  -10.0711  78.01   17   \n",
       "9          238       Port Blair      IN  11.6667   92.7500  79.50   65   \n",
       "10         253   Cap Malheureux      MU -19.9842   57.6142  80.01   72   \n",
       "11         271            Eilat      IL  29.5581   34.9482  75.20   38   \n",
       "12         276           Waddān      LY  29.1614   16.1390  70.25   24   \n",
       "13         280       Harindānga      IN  22.0383   88.3214  84.20   42   \n",
       "14         285       Manzanillo      CU  20.3433  -77.1167  79.52   55   \n",
       "15         297            Chhor      PK  25.5167   69.7667  76.57   10   \n",
       "16         301       Batticaloa      LK   7.7102   81.6924  79.21   66   \n",
       "17         306         Mercedes      AR -34.6515  -59.4307  80.01   76   \n",
       "18         310   Xochistlahuaca      MX  16.7833  -98.2500  73.90   56   \n",
       "19         325  Lázaro Cárdenas      MX  17.9583 -102.2000  71.02   76   \n",
       "\n",
       "    Cloudiness  Wind v        Date  \n",
       "0            0    7.67  1614607299  \n",
       "1            0    5.99  1614607320  \n",
       "2            0    5.39  1614607321  \n",
       "3            0    6.96  1614607323  \n",
       "4            0    2.71  1614607299  \n",
       "5            0    9.37  1614607437  \n",
       "6            0    6.78  1614607496  \n",
       "7            0    7.11  1614607537  \n",
       "8            0    8.39  1614607551  \n",
       "9            0    7.63  1614607559  \n",
       "10           0    8.99  1614607580  \n",
       "11           0    4.61  1614607314  \n",
       "12           0    4.18  1614607615  \n",
       "13           0    3.44  1614607620  \n",
       "14           0    9.51  1614607626  \n",
       "15           0    5.08  1614607644  \n",
       "16           0    5.93  1614607649  \n",
       "17           0    1.99  1614607443  \n",
       "18           0    1.86  1614607661  \n",
       "19           0    5.01  1614607683  "
      ],
      "text/html": "<div>\n<style scoped>\n    .dataframe tbody tr th:only-of-type {\n        vertical-align: middle;\n    }\n\n    .dataframe tbody tr th {\n        vertical-align: top;\n    }\n\n    .dataframe thead th {\n        text-align: right;\n    }\n</style>\n<table border=\"1\" class=\"dataframe\">\n  <thead>\n    <tr style=\"text-align: right;\">\n      <th></th>\n      <th>Unnamed: 0</th>\n      <th>City</th>\n      <th>Country</th>\n      <th>Lat</th>\n      <th>Lon</th>\n      <th>Tmax</th>\n      <th>% H</th>\n      <th>Cloudiness</th>\n      <th>Wind v</th>\n      <th>Date</th>\n    </tr>\n  </thead>\n  <tbody>\n    <tr>\n      <th>0</th>\n      <td>48</td>\n      <td>Jalu</td>\n      <td>LY</td>\n      <td>29.0331</td>\n      <td>21.5482</td>\n      <td>70.95</td>\n      <td>28</td>\n      <td>0</td>\n      <td>7.67</td>\n      <td>1614607299</td>\n    </tr>\n    <tr>\n      <th>1</th>\n      <td>63</td>\n      <td>Puerto Ayora</td>\n      <td>EC</td>\n      <td>-0.7393</td>\n      <td>-90.3518</td>\n      <td>75.99</td>\n      <td>98</td>\n      <td>0</td>\n      <td>5.99</td>\n      <td>1614607320</td>\n    </tr>\n    <tr>\n      <th>2</th>\n      <td>64</td>\n      <td>Eravur</td>\n      <td>LK</td>\n      <td>7.7733</td>\n      <td>81.6095</td>\n      <td>78.17</td>\n      <td>67</td>\n      <td>0</td>\n      <td>5.39</td>\n      <td>1614607321</td>\n    </tr>\n    <tr>\n      <th>3</th>\n      <td>65</td>\n      <td>Lüderitz</td>\n      <td>NaN</td>\n      <td>-26.6481</td>\n      <td>15.1594</td>\n      <td>72.77</td>\n      <td>64</td>\n      <td>0</td>\n      <td>6.96</td>\n      <td>1614607323</td>\n    </tr>\n    <tr>\n      <th>4</th>\n      <td>148</td>\n      <td>Constitución</td>\n      <td>CL</td>\n      <td>-35.3333</td>\n      <td>-72.4167</td>\n      <td>70.38</td>\n      <td>55</td>\n      <td>0</td>\n      <td>2.71</td>\n      <td>1614607299</td>\n    </tr>\n    <tr>\n      <th>5</th>\n      <td>151</td>\n      <td>Itimādpur</td>\n      <td>IN</td>\n      <td>27.2500</td>\n      <td>78.2000</td>\n      <td>72.70</td>\n      <td>20</td>\n      <td>0</td>\n      <td>9.37</td>\n      <td>1614607437</td>\n    </tr>\n    <tr>\n      <th>6</th>\n      <td>193</td>\n      <td>Glencoe</td>\n      <td>ZA</td>\n      <td>-28.1783</td>\n      <td>30.1470</td>\n      <td>73.76</td>\n      <td>38</td>\n      <td>0</td>\n      <td>6.78</td>\n      <td>1614607496</td>\n    </tr>\n    <tr>\n      <th>7</th>\n      <td>224</td>\n      <td>Kātrās</td>\n      <td>IN</td>\n      <td>23.8000</td>\n      <td>86.2833</td>\n      <td>82.06</td>\n      <td>18</td>\n      <td>0</td>\n      <td>7.11</td>\n      <td>1614607537</td>\n    </tr>\n    <tr>\n      <th>8</th>\n      <td>233</td>\n      <td>Adrar</td>\n      <td>MR</td>\n      <td>20.5022</td>\n      <td>-10.0711</td>\n      <td>78.01</td>\n      <td>17</td>\n      <td>0</td>\n      <td>8.39</td>\n      <td>1614607551</td>\n    </tr>\n    <tr>\n      <th>9</th>\n      <td>238</td>\n      <td>Port Blair</td>\n      <td>IN</td>\n      <td>11.6667</td>\n      <td>92.7500</td>\n      <td>79.50</td>\n      <td>65</td>\n      <td>0</td>\n      <td>7.63</td>\n      <td>1614607559</td>\n    </tr>\n    <tr>\n      <th>10</th>\n      <td>253</td>\n      <td>Cap Malheureux</td>\n      <td>MU</td>\n      <td>-19.9842</td>\n      <td>57.6142</td>\n      <td>80.01</td>\n      <td>72</td>\n      <td>0</td>\n      <td>8.99</td>\n      <td>1614607580</td>\n    </tr>\n    <tr>\n      <th>11</th>\n      <td>271</td>\n      <td>Eilat</td>\n      <td>IL</td>\n      <td>29.5581</td>\n      <td>34.9482</td>\n      <td>75.20</td>\n      <td>38</td>\n      <td>0</td>\n      <td>4.61</td>\n      <td>1614607314</td>\n    </tr>\n    <tr>\n      <th>12</th>\n      <td>276</td>\n      <td>Waddān</td>\n      <td>LY</td>\n      <td>29.1614</td>\n      <td>16.1390</td>\n      <td>70.25</td>\n      <td>24</td>\n      <td>0</td>\n      <td>4.18</td>\n      <td>1614607615</td>\n    </tr>\n    <tr>\n      <th>13</th>\n      <td>280</td>\n      <td>Harindānga</td>\n      <td>IN</td>\n      <td>22.0383</td>\n      <td>88.3214</td>\n      <td>84.20</td>\n      <td>42</td>\n      <td>0</td>\n      <td>3.44</td>\n      <td>1614607620</td>\n    </tr>\n    <tr>\n      <th>14</th>\n      <td>285</td>\n      <td>Manzanillo</td>\n      <td>CU</td>\n      <td>20.3433</td>\n      <td>-77.1167</td>\n      <td>79.52</td>\n      <td>55</td>\n      <td>0</td>\n      <td>9.51</td>\n      <td>1614607626</td>\n    </tr>\n    <tr>\n      <th>15</th>\n      <td>297</td>\n      <td>Chhor</td>\n      <td>PK</td>\n      <td>25.5167</td>\n      <td>69.7667</td>\n      <td>76.57</td>\n      <td>10</td>\n      <td>0</td>\n      <td>5.08</td>\n      <td>1614607644</td>\n    </tr>\n    <tr>\n      <th>16</th>\n      <td>301</td>\n      <td>Batticaloa</td>\n      <td>LK</td>\n      <td>7.7102</td>\n      <td>81.6924</td>\n      <td>79.21</td>\n      <td>66</td>\n      <td>0</td>\n      <td>5.93</td>\n      <td>1614607649</td>\n    </tr>\n    <tr>\n      <th>17</th>\n      <td>306</td>\n      <td>Mercedes</td>\n      <td>AR</td>\n      <td>-34.6515</td>\n      <td>-59.4307</td>\n      <td>80.01</td>\n      <td>76</td>\n      <td>0</td>\n      <td>1.99</td>\n      <td>1614607443</td>\n    </tr>\n    <tr>\n      <th>18</th>\n      <td>310</td>\n      <td>Xochistlahuaca</td>\n      <td>MX</td>\n      <td>16.7833</td>\n      <td>-98.2500</td>\n      <td>73.90</td>\n      <td>56</td>\n      <td>0</td>\n      <td>1.86</td>\n      <td>1614607661</td>\n    </tr>\n    <tr>\n      <th>19</th>\n      <td>325</td>\n      <td>Lázaro Cárdenas</td>\n      <td>MX</td>\n      <td>17.9583</td>\n      <td>-102.2000</td>\n      <td>71.02</td>\n      <td>76</td>\n      <td>0</td>\n      <td>5.01</td>\n      <td>1614607683</td>\n    </tr>\n  </tbody>\n</table>\n</div>"
     },
     "metadata": {},
     "execution_count": 5
    }
   ],
   "source": [
    "idealrun=cities.loc[(cities['Tmax']>70) & \n",
    "                    (cities['Tmax']<100) &\n",
    "                    (cities['Wind v']>0) &\n",
    "                    (cities['Wind v']<10) &\n",
    "                    (cities['Cloudiness']==0)]\n",
    "#idealrun.shape\n",
    "idealrun.reset_index(inplace=True)\n",
    "del idealrun['index']\n",
    "idealrun.head(20)"
   ]
  },
  {
   "cell_type": "markdown",
   "metadata": {},
   "source": [
    "### Hotel Map\n",
    "* Store into variable named `hotel_df`.\n",
    "* Add a \"Hotel Name\" column to the DataFrame.\n",
    "* Set parameters to search for hotels with 5000 meters.\n",
    "* Hit the Google Places API for each city's coordinates.\n",
    "* Store the first Hotel result into the DataFrame.\n",
    "* Plot markers on top of the heatmap."
   ]
  },
  {
   "cell_type": "code",
   "execution_count": 6,
   "metadata": {},
   "outputs": [
    {
     "output_type": "execute_result",
     "data": {
      "text/plain": [
       "    Unnamed: 0                   City Country      Lat       Lon   Tmax  % H  \\\n",
       "0           48                   Jalu      LY  29.0331   21.5482  70.95   28   \n",
       "1           63           Puerto Ayora      EC  -0.7393  -90.3518  75.99   98   \n",
       "2           64                 Eravur      LK   7.7733   81.6095  78.17   67   \n",
       "3           65               Lüderitz     NaN -26.6481   15.1594  72.77   64   \n",
       "4          148           Constitución      CL -35.3333  -72.4167  70.38   55   \n",
       "5          151              Itimādpur      IN  27.2500   78.2000  72.70   20   \n",
       "6          193                Glencoe      ZA -28.1783   30.1470  73.76   38   \n",
       "7          224                 Kātrās      IN  23.8000   86.2833  82.06   18   \n",
       "8          233                  Adrar      MR  20.5022  -10.0711  78.01   17   \n",
       "9          238             Port Blair      IN  11.6667   92.7500  79.50   65   \n",
       "10         253         Cap Malheureux      MU -19.9842   57.6142  80.01   72   \n",
       "11         271                  Eilat      IL  29.5581   34.9482  75.20   38   \n",
       "12         276                 Waddān      LY  29.1614   16.1390  70.25   24   \n",
       "13         280             Harindānga      IN  22.0383   88.3214  84.20   42   \n",
       "14         285             Manzanillo      CU  20.3433  -77.1167  79.52   55   \n",
       "15         297                  Chhor      PK  25.5167   69.7667  76.57   10   \n",
       "16         301             Batticaloa      LK   7.7102   81.6924  79.21   66   \n",
       "17         306               Mercedes      AR -34.6515  -59.4307  80.01   76   \n",
       "18         310         Xochistlahuaca      MX  16.7833  -98.2500  73.90   56   \n",
       "19         325        Lázaro Cárdenas      MX  17.9583 -102.2000  71.02   76   \n",
       "20         332             San Isidro      PE -12.1167  -77.0500  78.80   73   \n",
       "21         341                Salalah      OM  17.0151   54.0924  82.40   39   \n",
       "22         359                  Nālūt      LY  30.3333   10.8500  73.51   19   \n",
       "23         368  Mayor Pablo Lagerenza      PY -19.9309  -60.7718  95.07   37   \n",
       "24         392               Petlāwad      IN  23.0000   74.8000  79.30   11   \n",
       "25         402               Mandsaur      IN  24.0667   75.0667  76.41   17   \n",
       "26         408                 Noumea      NC -22.2763  166.4572  71.60   88   \n",
       "27         423            Grand Gaube      MU -20.0064   57.6608  80.01   72   \n",
       "28         452         Toba Tek Singh      PK  30.9743   72.4827  70.05   21   \n",
       "29         491              Abu Dhabi      AE  24.4667   54.3667  80.60   38   \n",
       "30         504                Aborlan      PH   9.4352  118.5492  78.58   82   \n",
       "31         534          Alice Springs      AU -23.7000  133.8833  87.01   19   \n",
       "32         555               Santa Fe      AR -31.6333  -60.7000  87.01   64   \n",
       "33         566                 Teknāf      BD  20.8624   92.3058  73.24   90   \n",
       "34         567            Salina Cruz      MX  16.1667  -95.2000  76.12   76   \n",
       "35         607               Phulbāni      IN  20.4667   84.2333  75.00   23   \n",
       "36         611                 Halvad      IN  23.0167   71.1833  73.53   25   \n",
       "37         612              Ponnampet      IN  12.1500   75.9333  70.39   71   \n",
       "38         619                   Lima      PE -12.0432  -77.0282  78.80   73   \n",
       "39         630          Mahabalipuram      IN  12.6264   80.1722  80.60   69   \n",
       "40         640              Iranshahr      IR  27.2025   60.6848  82.40   14   \n",
       "41         651                  Ginda      IN  30.6945   78.4932  71.60   37   \n",
       "42         652               Simbahan      PH   6.3032  120.5836  83.77   76   \n",
       "43         664                 Chopda      IN  21.2500   75.3000  84.65   18   \n",
       "\n",
       "    Cloudiness  Wind v        Date Hotel name  \n",
       "0            0    7.67  1614607299             \n",
       "1            0    5.99  1614607320             \n",
       "2            0    5.39  1614607321             \n",
       "3            0    6.96  1614607323             \n",
       "4            0    2.71  1614607299             \n",
       "5            0    9.37  1614607437             \n",
       "6            0    6.78  1614607496             \n",
       "7            0    7.11  1614607537             \n",
       "8            0    8.39  1614607551             \n",
       "9            0    7.63  1614607559             \n",
       "10           0    8.99  1614607580             \n",
       "11           0    4.61  1614607314             \n",
       "12           0    4.18  1614607615             \n",
       "13           0    3.44  1614607620             \n",
       "14           0    9.51  1614607626             \n",
       "15           0    5.08  1614607644             \n",
       "16           0    5.93  1614607649             \n",
       "17           0    1.99  1614607443             \n",
       "18           0    1.86  1614607661             \n",
       "19           0    5.01  1614607683             \n",
       "20           0    4.61  1614607692             \n",
       "21           0    5.75  1614607705             \n",
       "22           0    9.40  1614607727             \n",
       "23           0    3.22  1614607739             \n",
       "24           0    6.06  1614607774             \n",
       "25           0    6.24  1614607790             \n",
       "26           0    2.30  1614607798             \n",
       "27           0    8.99  1614607817             \n",
       "28           0    8.59  1614607859             \n",
       "29           0    8.05  1614607620             \n",
       "30           0    5.01  1614607929             \n",
       "31           0    8.68  1614607973             \n",
       "32           0    3.00  1614608003             \n",
       "33           0    5.26  1614608017             \n",
       "34           0    3.71  1614608019             \n",
       "35           0    2.30  1614608076             \n",
       "36           0    6.62  1614608081             \n",
       "37           0    3.83  1614608082             \n",
       "38           0    4.61  1614607827             \n",
       "39           0    6.91  1614608106             \n",
       "40           0    9.22  1614608118             \n",
       "41           0    4.72  1614608135             \n",
       "42           0    4.23  1614608136             \n",
       "43           0    0.83  1614608157             "
      ],
      "text/html": "<div>\n<style scoped>\n    .dataframe tbody tr th:only-of-type {\n        vertical-align: middle;\n    }\n\n    .dataframe tbody tr th {\n        vertical-align: top;\n    }\n\n    .dataframe thead th {\n        text-align: right;\n    }\n</style>\n<table border=\"1\" class=\"dataframe\">\n  <thead>\n    <tr style=\"text-align: right;\">\n      <th></th>\n      <th>Unnamed: 0</th>\n      <th>City</th>\n      <th>Country</th>\n      <th>Lat</th>\n      <th>Lon</th>\n      <th>Tmax</th>\n      <th>% H</th>\n      <th>Cloudiness</th>\n      <th>Wind v</th>\n      <th>Date</th>\n      <th>Hotel name</th>\n    </tr>\n  </thead>\n  <tbody>\n    <tr>\n      <th>0</th>\n      <td>48</td>\n      <td>Jalu</td>\n      <td>LY</td>\n      <td>29.0331</td>\n      <td>21.5482</td>\n      <td>70.95</td>\n      <td>28</td>\n      <td>0</td>\n      <td>7.67</td>\n      <td>1614607299</td>\n      <td></td>\n    </tr>\n    <tr>\n      <th>1</th>\n      <td>63</td>\n      <td>Puerto Ayora</td>\n      <td>EC</td>\n      <td>-0.7393</td>\n      <td>-90.3518</td>\n      <td>75.99</td>\n      <td>98</td>\n      <td>0</td>\n      <td>5.99</td>\n      <td>1614607320</td>\n      <td></td>\n    </tr>\n    <tr>\n      <th>2</th>\n      <td>64</td>\n      <td>Eravur</td>\n      <td>LK</td>\n      <td>7.7733</td>\n      <td>81.6095</td>\n      <td>78.17</td>\n      <td>67</td>\n      <td>0</td>\n      <td>5.39</td>\n      <td>1614607321</td>\n      <td></td>\n    </tr>\n    <tr>\n      <th>3</th>\n      <td>65</td>\n      <td>Lüderitz</td>\n      <td>NaN</td>\n      <td>-26.6481</td>\n      <td>15.1594</td>\n      <td>72.77</td>\n      <td>64</td>\n      <td>0</td>\n      <td>6.96</td>\n      <td>1614607323</td>\n      <td></td>\n    </tr>\n    <tr>\n      <th>4</th>\n      <td>148</td>\n      <td>Constitución</td>\n      <td>CL</td>\n      <td>-35.3333</td>\n      <td>-72.4167</td>\n      <td>70.38</td>\n      <td>55</td>\n      <td>0</td>\n      <td>2.71</td>\n      <td>1614607299</td>\n      <td></td>\n    </tr>\n    <tr>\n      <th>5</th>\n      <td>151</td>\n      <td>Itimādpur</td>\n      <td>IN</td>\n      <td>27.2500</td>\n      <td>78.2000</td>\n      <td>72.70</td>\n      <td>20</td>\n      <td>0</td>\n      <td>9.37</td>\n      <td>1614607437</td>\n      <td></td>\n    </tr>\n    <tr>\n      <th>6</th>\n      <td>193</td>\n      <td>Glencoe</td>\n      <td>ZA</td>\n      <td>-28.1783</td>\n      <td>30.1470</td>\n      <td>73.76</td>\n      <td>38</td>\n      <td>0</td>\n      <td>6.78</td>\n      <td>1614607496</td>\n      <td></td>\n    </tr>\n    <tr>\n      <th>7</th>\n      <td>224</td>\n      <td>Kātrās</td>\n      <td>IN</td>\n      <td>23.8000</td>\n      <td>86.2833</td>\n      <td>82.06</td>\n      <td>18</td>\n      <td>0</td>\n      <td>7.11</td>\n      <td>1614607537</td>\n      <td></td>\n    </tr>\n    <tr>\n      <th>8</th>\n      <td>233</td>\n      <td>Adrar</td>\n      <td>MR</td>\n      <td>20.5022</td>\n      <td>-10.0711</td>\n      <td>78.01</td>\n      <td>17</td>\n      <td>0</td>\n      <td>8.39</td>\n      <td>1614607551</td>\n      <td></td>\n    </tr>\n    <tr>\n      <th>9</th>\n      <td>238</td>\n      <td>Port Blair</td>\n      <td>IN</td>\n      <td>11.6667</td>\n      <td>92.7500</td>\n      <td>79.50</td>\n      <td>65</td>\n      <td>0</td>\n      <td>7.63</td>\n      <td>1614607559</td>\n      <td></td>\n    </tr>\n    <tr>\n      <th>10</th>\n      <td>253</td>\n      <td>Cap Malheureux</td>\n      <td>MU</td>\n      <td>-19.9842</td>\n      <td>57.6142</td>\n      <td>80.01</td>\n      <td>72</td>\n      <td>0</td>\n      <td>8.99</td>\n      <td>1614607580</td>\n      <td></td>\n    </tr>\n    <tr>\n      <th>11</th>\n      <td>271</td>\n      <td>Eilat</td>\n      <td>IL</td>\n      <td>29.5581</td>\n      <td>34.9482</td>\n      <td>75.20</td>\n      <td>38</td>\n      <td>0</td>\n      <td>4.61</td>\n      <td>1614607314</td>\n      <td></td>\n    </tr>\n    <tr>\n      <th>12</th>\n      <td>276</td>\n      <td>Waddān</td>\n      <td>LY</td>\n      <td>29.1614</td>\n      <td>16.1390</td>\n      <td>70.25</td>\n      <td>24</td>\n      <td>0</td>\n      <td>4.18</td>\n      <td>1614607615</td>\n      <td></td>\n    </tr>\n    <tr>\n      <th>13</th>\n      <td>280</td>\n      <td>Harindānga</td>\n      <td>IN</td>\n      <td>22.0383</td>\n      <td>88.3214</td>\n      <td>84.20</td>\n      <td>42</td>\n      <td>0</td>\n      <td>3.44</td>\n      <td>1614607620</td>\n      <td></td>\n    </tr>\n    <tr>\n      <th>14</th>\n      <td>285</td>\n      <td>Manzanillo</td>\n      <td>CU</td>\n      <td>20.3433</td>\n      <td>-77.1167</td>\n      <td>79.52</td>\n      <td>55</td>\n      <td>0</td>\n      <td>9.51</td>\n      <td>1614607626</td>\n      <td></td>\n    </tr>\n    <tr>\n      <th>15</th>\n      <td>297</td>\n      <td>Chhor</td>\n      <td>PK</td>\n      <td>25.5167</td>\n      <td>69.7667</td>\n      <td>76.57</td>\n      <td>10</td>\n      <td>0</td>\n      <td>5.08</td>\n      <td>1614607644</td>\n      <td></td>\n    </tr>\n    <tr>\n      <th>16</th>\n      <td>301</td>\n      <td>Batticaloa</td>\n      <td>LK</td>\n      <td>7.7102</td>\n      <td>81.6924</td>\n      <td>79.21</td>\n      <td>66</td>\n      <td>0</td>\n      <td>5.93</td>\n      <td>1614607649</td>\n      <td></td>\n    </tr>\n    <tr>\n      <th>17</th>\n      <td>306</td>\n      <td>Mercedes</td>\n      <td>AR</td>\n      <td>-34.6515</td>\n      <td>-59.4307</td>\n      <td>80.01</td>\n      <td>76</td>\n      <td>0</td>\n      <td>1.99</td>\n      <td>1614607443</td>\n      <td></td>\n    </tr>\n    <tr>\n      <th>18</th>\n      <td>310</td>\n      <td>Xochistlahuaca</td>\n      <td>MX</td>\n      <td>16.7833</td>\n      <td>-98.2500</td>\n      <td>73.90</td>\n      <td>56</td>\n      <td>0</td>\n      <td>1.86</td>\n      <td>1614607661</td>\n      <td></td>\n    </tr>\n    <tr>\n      <th>19</th>\n      <td>325</td>\n      <td>Lázaro Cárdenas</td>\n      <td>MX</td>\n      <td>17.9583</td>\n      <td>-102.2000</td>\n      <td>71.02</td>\n      <td>76</td>\n      <td>0</td>\n      <td>5.01</td>\n      <td>1614607683</td>\n      <td></td>\n    </tr>\n    <tr>\n      <th>20</th>\n      <td>332</td>\n      <td>San Isidro</td>\n      <td>PE</td>\n      <td>-12.1167</td>\n      <td>-77.0500</td>\n      <td>78.80</td>\n      <td>73</td>\n      <td>0</td>\n      <td>4.61</td>\n      <td>1614607692</td>\n      <td></td>\n    </tr>\n    <tr>\n      <th>21</th>\n      <td>341</td>\n      <td>Salalah</td>\n      <td>OM</td>\n      <td>17.0151</td>\n      <td>54.0924</td>\n      <td>82.40</td>\n      <td>39</td>\n      <td>0</td>\n      <td>5.75</td>\n      <td>1614607705</td>\n      <td></td>\n    </tr>\n    <tr>\n      <th>22</th>\n      <td>359</td>\n      <td>Nālūt</td>\n      <td>LY</td>\n      <td>30.3333</td>\n      <td>10.8500</td>\n      <td>73.51</td>\n      <td>19</td>\n      <td>0</td>\n      <td>9.40</td>\n      <td>1614607727</td>\n      <td></td>\n    </tr>\n    <tr>\n      <th>23</th>\n      <td>368</td>\n      <td>Mayor Pablo Lagerenza</td>\n      <td>PY</td>\n      <td>-19.9309</td>\n      <td>-60.7718</td>\n      <td>95.07</td>\n      <td>37</td>\n      <td>0</td>\n      <td>3.22</td>\n      <td>1614607739</td>\n      <td></td>\n    </tr>\n    <tr>\n      <th>24</th>\n      <td>392</td>\n      <td>Petlāwad</td>\n      <td>IN</td>\n      <td>23.0000</td>\n      <td>74.8000</td>\n      <td>79.30</td>\n      <td>11</td>\n      <td>0</td>\n      <td>6.06</td>\n      <td>1614607774</td>\n      <td></td>\n    </tr>\n    <tr>\n      <th>25</th>\n      <td>402</td>\n      <td>Mandsaur</td>\n      <td>IN</td>\n      <td>24.0667</td>\n      <td>75.0667</td>\n      <td>76.41</td>\n      <td>17</td>\n      <td>0</td>\n      <td>6.24</td>\n      <td>1614607790</td>\n      <td></td>\n    </tr>\n    <tr>\n      <th>26</th>\n      <td>408</td>\n      <td>Noumea</td>\n      <td>NC</td>\n      <td>-22.2763</td>\n      <td>166.4572</td>\n      <td>71.60</td>\n      <td>88</td>\n      <td>0</td>\n      <td>2.30</td>\n      <td>1614607798</td>\n      <td></td>\n    </tr>\n    <tr>\n      <th>27</th>\n      <td>423</td>\n      <td>Grand Gaube</td>\n      <td>MU</td>\n      <td>-20.0064</td>\n      <td>57.6608</td>\n      <td>80.01</td>\n      <td>72</td>\n      <td>0</td>\n      <td>8.99</td>\n      <td>1614607817</td>\n      <td></td>\n    </tr>\n    <tr>\n      <th>28</th>\n      <td>452</td>\n      <td>Toba Tek Singh</td>\n      <td>PK</td>\n      <td>30.9743</td>\n      <td>72.4827</td>\n      <td>70.05</td>\n      <td>21</td>\n      <td>0</td>\n      <td>8.59</td>\n      <td>1614607859</td>\n      <td></td>\n    </tr>\n    <tr>\n      <th>29</th>\n      <td>491</td>\n      <td>Abu Dhabi</td>\n      <td>AE</td>\n      <td>24.4667</td>\n      <td>54.3667</td>\n      <td>80.60</td>\n      <td>38</td>\n      <td>0</td>\n      <td>8.05</td>\n      <td>1614607620</td>\n      <td></td>\n    </tr>\n    <tr>\n      <th>30</th>\n      <td>504</td>\n      <td>Aborlan</td>\n      <td>PH</td>\n      <td>9.4352</td>\n      <td>118.5492</td>\n      <td>78.58</td>\n      <td>82</td>\n      <td>0</td>\n      <td>5.01</td>\n      <td>1614607929</td>\n      <td></td>\n    </tr>\n    <tr>\n      <th>31</th>\n      <td>534</td>\n      <td>Alice Springs</td>\n      <td>AU</td>\n      <td>-23.7000</td>\n      <td>133.8833</td>\n      <td>87.01</td>\n      <td>19</td>\n      <td>0</td>\n      <td>8.68</td>\n      <td>1614607973</td>\n      <td></td>\n    </tr>\n    <tr>\n      <th>32</th>\n      <td>555</td>\n      <td>Santa Fe</td>\n      <td>AR</td>\n      <td>-31.6333</td>\n      <td>-60.7000</td>\n      <td>87.01</td>\n      <td>64</td>\n      <td>0</td>\n      <td>3.00</td>\n      <td>1614608003</td>\n      <td></td>\n    </tr>\n    <tr>\n      <th>33</th>\n      <td>566</td>\n      <td>Teknāf</td>\n      <td>BD</td>\n      <td>20.8624</td>\n      <td>92.3058</td>\n      <td>73.24</td>\n      <td>90</td>\n      <td>0</td>\n      <td>5.26</td>\n      <td>1614608017</td>\n      <td></td>\n    </tr>\n    <tr>\n      <th>34</th>\n      <td>567</td>\n      <td>Salina Cruz</td>\n      <td>MX</td>\n      <td>16.1667</td>\n      <td>-95.2000</td>\n      <td>76.12</td>\n      <td>76</td>\n      <td>0</td>\n      <td>3.71</td>\n      <td>1614608019</td>\n      <td></td>\n    </tr>\n    <tr>\n      <th>35</th>\n      <td>607</td>\n      <td>Phulbāni</td>\n      <td>IN</td>\n      <td>20.4667</td>\n      <td>84.2333</td>\n      <td>75.00</td>\n      <td>23</td>\n      <td>0</td>\n      <td>2.30</td>\n      <td>1614608076</td>\n      <td></td>\n    </tr>\n    <tr>\n      <th>36</th>\n      <td>611</td>\n      <td>Halvad</td>\n      <td>IN</td>\n      <td>23.0167</td>\n      <td>71.1833</td>\n      <td>73.53</td>\n      <td>25</td>\n      <td>0</td>\n      <td>6.62</td>\n      <td>1614608081</td>\n      <td></td>\n    </tr>\n    <tr>\n      <th>37</th>\n      <td>612</td>\n      <td>Ponnampet</td>\n      <td>IN</td>\n      <td>12.1500</td>\n      <td>75.9333</td>\n      <td>70.39</td>\n      <td>71</td>\n      <td>0</td>\n      <td>3.83</td>\n      <td>1614608082</td>\n      <td></td>\n    </tr>\n    <tr>\n      <th>38</th>\n      <td>619</td>\n      <td>Lima</td>\n      <td>PE</td>\n      <td>-12.0432</td>\n      <td>-77.0282</td>\n      <td>78.80</td>\n      <td>73</td>\n      <td>0</td>\n      <td>4.61</td>\n      <td>1614607827</td>\n      <td></td>\n    </tr>\n    <tr>\n      <th>39</th>\n      <td>630</td>\n      <td>Mahabalipuram</td>\n      <td>IN</td>\n      <td>12.6264</td>\n      <td>80.1722</td>\n      <td>80.60</td>\n      <td>69</td>\n      <td>0</td>\n      <td>6.91</td>\n      <td>1614608106</td>\n      <td></td>\n    </tr>\n    <tr>\n      <th>40</th>\n      <td>640</td>\n      <td>Iranshahr</td>\n      <td>IR</td>\n      <td>27.2025</td>\n      <td>60.6848</td>\n      <td>82.40</td>\n      <td>14</td>\n      <td>0</td>\n      <td>9.22</td>\n      <td>1614608118</td>\n      <td></td>\n    </tr>\n    <tr>\n      <th>41</th>\n      <td>651</td>\n      <td>Ginda</td>\n      <td>IN</td>\n      <td>30.6945</td>\n      <td>78.4932</td>\n      <td>71.60</td>\n      <td>37</td>\n      <td>0</td>\n      <td>4.72</td>\n      <td>1614608135</td>\n      <td></td>\n    </tr>\n    <tr>\n      <th>42</th>\n      <td>652</td>\n      <td>Simbahan</td>\n      <td>PH</td>\n      <td>6.3032</td>\n      <td>120.5836</td>\n      <td>83.77</td>\n      <td>76</td>\n      <td>0</td>\n      <td>4.23</td>\n      <td>1614608136</td>\n      <td></td>\n    </tr>\n    <tr>\n      <th>43</th>\n      <td>664</td>\n      <td>Chopda</td>\n      <td>IN</td>\n      <td>21.2500</td>\n      <td>75.3000</td>\n      <td>84.65</td>\n      <td>18</td>\n      <td>0</td>\n      <td>0.83</td>\n      <td>1614608157</td>\n      <td></td>\n    </tr>\n  </tbody>\n</table>\n</div>"
     },
     "metadata": {},
     "execution_count": 6
    }
   ],
   "source": [
    "hotels=[]\n",
    "for i in range(len(idealrun)):\n",
    "    Lat=idealrun.loc[i]['Lat']\n",
    "    Lon=idealrun.loc[i]['Lon']\n",
    "    parametros={'Location':f'{Lat},{Lon}',\n",
    "                'radius':5000,\n",
    "                'types':'hotel',\n",
    "                'key':g_key}\n",
    "\n",
    "    base_url=\"https://maps.googleapis.com/maps/api/place/nearbysearch/json\"\n",
    "    request=requests.get(base_url,params=parametros)\n",
    "    rjson=request.json()\n",
    "    try:\n",
    "        hotels.append(rjson['results'][0]['name'])\n",
    "    except:\n",
    "        hotels.append('')\n",
    "idealrun['Hotel name']=hotels\n",
    "idealrun"
   ]
  },
  {
   "cell_type": "code",
   "execution_count": null,
   "metadata": {},
   "outputs": [],
   "source": []
  },
  {
   "cell_type": "code",
   "execution_count": 7,
   "metadata": {},
   "outputs": [],
   "source": [
    "# NOTE: Do not change any of the code in this cell\n",
    "\n",
    "# Using the template add the hotel marks to the heatmap\n",
    "info_box_template = \"\"\"\n",
    "<dl>\n",
    "<dt>Name</dt><dd>{Hotel name}</dd>\n",
    "<dt>City</dt><dd>{City}</dd>\n",
    "<dt>Country</dt><dd>{Country}</dd>\n",
    "</dl>\n",
    "\"\"\"\n",
    "# Store the DataFrame Row\n",
    "# NOTE: be sure to update with your DataFrame name\n",
    "hotels= [info_box_template.format(**row) for index, row in idealrun.iterrows()]\n",
    "locations = idealrun[[\"Lat\", \"Lon\"]]"
   ]
  },
  {
   "cell_type": "code",
   "execution_count": 8,
   "metadata": {},
   "outputs": [
    {
     "output_type": "display_data",
     "data": {
      "text/plain": "Figure(layout=FigureLayout(height='420px'))",
      "application/vnd.jupyter.widget-view+json": {
       "version_major": 2,
       "version_minor": 0,
       "model_id": "961d564f48914ee3aed095cb2f1ac9c9"
      }
     },
     "metadata": {}
    }
   ],
   "source": [
    "# Add marker layer ontop of heat map\n",
    "markers=gmaps.marker_layer(locations)\n",
    "\n",
    "# Display figure\n",
    "fig.add_layer(markers)\n",
    "fig\n"
   ]
  },
  {
   "cell_type": "code",
   "execution_count": null,
   "metadata": {},
   "outputs": [],
   "source": []
  }
 ],
 "metadata": {
  "kernelspec": {
   "name": "python3",
   "display_name": "Python 3.8.3 64-bit ('base': conda)",
   "metadata": {
    "interpreter": {
     "hash": "85775aff345b3eaa0ca7ddb469af64066999764fb38d3f5fd44cd6d53efe5949"
    }
   }
  },
  "language_info": {
   "codemirror_mode": {
    "name": "ipython",
    "version": 3
   },
   "file_extension": ".py",
   "mimetype": "text/x-python",
   "name": "python",
   "nbconvert_exporter": "python",
   "pygments_lexer": "ipython3",
   "version": "3.8.3-final"
  },
  "latex_envs": {
   "LaTeX_envs_menu_present": true,
   "autoclose": false,
   "autocomplete": true,
   "bibliofile": "biblio.bib",
   "cite_by": "apalike",
   "current_citInitial": 1,
   "eqLabelWithNumbers": true,
   "eqNumInitial": 1,
   "hotkeys": {
    "equation": "Ctrl-E",
    "itemize": "Ctrl-I"
   },
   "labels_anchors": false,
   "latex_user_defs": false,
   "report_style_numbering": false,
   "user_envs_cfg": false
  }
 },
 "nbformat": 4,
 "nbformat_minor": 4
}